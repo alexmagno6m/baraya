{
 "cells": [
  {
   "cell_type": "markdown",
   "id": "2197a096",
   "metadata": {},
   "source": [
    "## Resultados Nivelacion Final"
   ]
  },
  {
   "cell_type": "markdown",
   "id": "82f487d9",
   "metadata": {},
   "source": [
    "Quienes NO APROBARON la nivelacion final deben presentar evaluacion de suficiencia ```Hoy Miercoles 22 a las 10.00 AM```."
   ]
  },
  {
   "cell_type": "markdown",
   "id": "523eadf1",
   "metadata": {},
   "source": [
    "| Nombre                            | Grado | Trabajo | Ejercicio | Final | Valoracion Final | Obervaciones                            |\n",
    "|-----------------------------------|-------|---------|-----------|-------|------------------|-----------------------------------------|\n",
    "| AMOROCHO   GARCIA JOAN SEBASTIAN  | 1101  | 18,8    | 21        | 39,8  | Aprobado         |                                         |\n",
    "| ORTIZ   QUINTERO SEBASTIAN CAMILO | 1101  | 18      | 10        | 28    | No Aprobado      | Presentar evaluacion Miercoles 22 10 AM |\n",
    "| VIELMAN PEÑA   ISBETH YULIANY     | 1101  | 19,2    | 16,2      | 35,4  | Aprobado         |                                         |\n",
    "| LOZANO FORERO   JUAN SEBASTIAN    | 1101  | 17,2    | 21        | 38,2  | Aprobado         |                                         |\n",
    "| GIRALDO   GARCIA JUAN SEBASTIAN   | 1102  | 18      | 10        | 28    | No Aprobado      | Presentar evaluacion Miercoles 22 10 AM |\n",
    "| FRANCO BERNAL   JHOSEF DAVID      | 1102  | 14      | 21        | 35    | Aprobado         |                                         |\n",
    "| PARRA CELIS   JUANA VALENTINA     | 1102  | 0       | 0         | 0     | No Aprobado      | Presentar evaluacion Miercoles 22 10 AM |\n",
    "| LOZANO CAMPOS   JUAN PABLO        | 1103  | 18,8    | 21        | 39,8  | Aprobado         |                                         |\n",
    "| BERMUDEZ   ALVAREZ JOSHUA ESTEVEN | 1102  | 18      | 17,4      | 35,4  | Aprobado         |                                         |\n",
    "| CARRANZA   MARIA                  |       | 19,2    | 16,8      | 36    | Aprobado         |                                         |"
   ]
  }
 ],
 "metadata": {
  "kernelspec": {
   "display_name": "Python 3 (ipykernel)",
   "language": "python",
   "name": "python3"
  },
  "language_info": {
   "codemirror_mode": {
    "name": "ipython",
    "version": 3
   },
   "file_extension": ".py",
   "mimetype": "text/x-python",
   "name": "python",
   "nbconvert_exporter": "python",
   "pygments_lexer": "ipython3",
   "version": "3.9.4"
  },
  "toc": {
   "base_numbering": 1,
   "nav_menu": {},
   "number_sections": true,
   "sideBar": true,
   "skip_h1_title": false,
   "title_cell": "Table of Contents",
   "title_sidebar": "Contents",
   "toc_cell": false,
   "toc_position": {},
   "toc_section_display": true,
   "toc_window_display": false
  }
 },
 "nbformat": 4,
 "nbformat_minor": 5
}
