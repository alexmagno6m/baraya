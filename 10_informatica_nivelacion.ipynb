{
 "cells": [
  {
   "cell_type": "markdown",
   "id": "99c8a88e",
   "metadata": {},
   "source": [
    "# Nivelación General Grado Décimo Informática\n",
    "### Lea con atención\n",
    "La nivelación consta de :"
   ]
  },
  {
   "cell_type": "markdown",
   "id": "4aa8bfdb",
   "metadata": {},
   "source": [
    "> 1. Una parte teorica\n",
    "> 2. Una parte practica"
   ]
  },
  {
   "cell_type": "markdown",
   "id": "bbae5150",
   "metadata": {},
   "source": [
    "Ambas partes son __obligatorias__ y deben ser presentadas el mismo dia que le corresponda nivelar. La parte teorica sera sustentada verbalmente, __debe realizar todos los puntos del trabajo escrito__ y la practica desarrollada en sala de sistemas en cualquiera de los temas que se exponen mas abajo los cuales seran seleccionados por el docente y uno por el estudiante."
   ]
  },
  {
   "cell_type": "markdown",
   "id": "71d6533d",
   "metadata": {},
   "source": [
    "## Parte Teorica"
   ]
  },
  {
   "cell_type": "markdown",
   "id": "8440d8ca",
   "metadata": {},
   "source": [
    "Realice el siguiente trabajo escrito el cual debe ser sustentado verbalmente, debe contestar __Todas__ las preguntas."
   ]
  },
  {
   "cell_type": "markdown",
   "id": "69300259",
   "metadata": {},
   "source": [
    "1.  Defina las siguientes funciones estadisticas de Excel:\n",
    "> - Suma\n",
    "> - Sumar.si\n",
    "> - Promedio\n",
    "> - Promedio.si\n",
    "> - max\n",
    "> - min\n",
    "> - Contar\n",
    "> - Contar.si\n"
   ]
  },
  {
   "cell_type": "markdown",
   "id": "a597150f",
   "metadata": {},
   "source": [
    "2. Sobre las funciones logicas de Excel indique:\n",
    "> - Concepto\n",
    "> - Utilidad\n",
    "> - Nombre las funciones logicas que contiene Excel"
   ]
  },
  {
   "cell_type": "markdown",
   "id": "2c027488",
   "metadata": {},
   "source": [
    "3. Sobre la funcion Logica SI, indique:\n",
    "> - Concepto\n",
    "> - Escriba su sintaxis\n",
    "> - Escriba 2 ejemplos de su uso"
   ]
  },
  {
   "cell_type": "markdown",
   "id": "3ee964df",
   "metadata": {},
   "source": [
    "4. Sobre las funciones logicas __si anidadas__, indique:\n",
    "> - Que es el anidamiento de funciones logicas\n",
    "> - Escriba la sintaxis una funcion anidada de tres funciones SI"
   ]
  },
  {
   "cell_type": "markdown",
   "id": "7757bd5e",
   "metadata": {},
   "source": [
    "5. Sobre el formato condicional indique:\n",
    "> - Concepto\n",
    "> - Utilidad\n",
    "> - Nombre 3 ejemplos de su uso\n",
    "> - Indique que es el orden de prioridad de las reglas de formato condicional\n",
    "> - Nombre las opciones u herramientas que hacen parte del menu de formato condicional."
   ]
  },
  {
   "cell_type": "markdown",
   "id": "4cf91587",
   "metadata": {},
   "source": [
    "6. Sobre HTML investique:\n",
    "> - Su historia\n",
    "> - Descripcion\n",
    "> - Caracteristicas de HTML\n",
    "> - Por que se indica que es un lenguaje de etiquetado\n",
    "> - Escriba la sintaxis de un sitio web basico o DOM\n",
    "> - Dibuje el arbol del DOM"
   ]
  },
  {
   "cell_type": "markdown",
   "id": "5cb01100",
   "metadata": {},
   "source": [
    "7. Sobre CSS investigue:\n",
    "> - Concepto\n",
    "> - Importancia de separar el contenido del diseño\n",
    "> - Nombre las 3 formas de incluir estilos CSS dentro de un documento web\n",
    "> - Defina que son las reglas css\n",
    "> - Indique los principales atributos de estilo CSS de la etiqueta Body\n",
    "> - Indique los principales atributos de estilo CSS de la fuente (tamaño, color, clase de fuente)\n"
   ]
  },
  {
   "cell_type": "markdown",
   "id": "f781fc89",
   "metadata": {},
   "source": [
    "8. Sobre los selectores CSS consulte:\n",
    "> - Concepto\n",
    "> - Tipos de selectores\n",
    "> - Escriba un ejemplo de selector de clase\n",
    "> - Escriba un ejemplo de selector de id"
   ]
  },
  {
   "cell_type": "markdown",
   "id": "0ab7e996",
   "metadata": {},
   "source": [
    "## Parte Práctica"
   ]
  },
  {
   "cell_type": "markdown",
   "id": "ba62b251",
   "metadata": {},
   "source": [
    "El dia de la nivelacion se propondrán un conjunto de ejercicios, debe estar preparado para desarrollar cualquiera de los siguientes temas prácticos:\n",
    "> - Encontrar el valor maximo de un conjunto de numeros\n",
    "> - Encontrar el valor minimo de un conjunto de numeros\n",
    "> - Realizar sumas condicionales de la forma sumar.si\n",
    "> - Realizar promedios condicionales de la forma promedio.si\n",
    "> - Contar la cantidad de veces que aparece un numero sujetoo a un condicion\n",
    "> - Establecer color a celdas que cumplan con determinada condicion\n",
    "> - Usar las funciones logicas si para analizar el valor de una celda y de acuerdo a esto se procesen o calculen otros valores.\n",
    "> - Analizar un conjunto de rangos o intervalos que se procesen con funciones si anidadas.\n",
    "> - Crear una pagina web basica en Visual Studio Code\n",
    "> - APlicar estilos CSS a una pagina web basica\n",
    "> - Crear tablas simples y complejas en HTML (que se expandan por filas o columnas)\n",
    "> - Usar la tecnica de Display Flex para alinar contenedores ```div``` dentro de otro ```div``` padre.\n"
   ]
  }
 ],
 "metadata": {
  "kernelspec": {
   "display_name": "Python 3 (ipykernel)",
   "language": "python",
   "name": "python3"
  },
  "language_info": {
   "codemirror_mode": {
    "name": "ipython",
    "version": 3
   },
   "file_extension": ".py",
   "mimetype": "text/x-python",
   "name": "python",
   "nbconvert_exporter": "python",
   "pygments_lexer": "ipython3",
   "version": "3.9.13"
  }
 },
 "nbformat": 4,
 "nbformat_minor": 5
}
