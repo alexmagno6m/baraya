{
 "cells": [
  {
   "cell_type": "markdown",
   "id": "00e88cfc",
   "metadata": {},
   "source": [
    "# Nivelaciones Generales Informatica y Programacion \n",
    "## Colegio Antonio Baraya IED\n",
    "#### Profesor: Alexander Acevedo\n",
    "#### Año 2023"
   ]
  },
  {
   "cell_type": "markdown",
   "id": "fe786598",
   "metadata": {},
   "source": [
    "### Fecha y hora de nivelaciones"
   ]
  },
  {
   "cell_type": "markdown",
   "id": "6a7a8cdd",
   "metadata": {},
   "source": [
    "| Grado | Asignatura                 | Dia                     | Hora      |\n",
    "|-------|----------------------------|-------------------------|-----------|\n",
    "| 10    | Informática y Programación | Martes 21 de Noviembre  | 9:30 A.M. |\n",
    "| 11    | Informática y Programación | Lunes 20 de Noviembre   | 9:30 A.M. |"
   ]
  },
  {
   "cell_type": "markdown",
   "id": "038bf0de",
   "metadata": {},
   "source": [
    "### Actividades y temas a desarrollar / preparar"
   ]
  },
  {
   "cell_type": "markdown",
   "id": "360df95e",
   "metadata": {},
   "source": [
    "Seleccione la nivelación a presentar"
   ]
  },
  {
   "cell_type": "markdown",
   "id": "b1597ace",
   "metadata": {},
   "source": [
    "[Nivelaciones Grado Décimo Informática](https://github.com/alexmagno6m/baraya/blob/main/10_informatica_nivelacion.ipynb)"
   ]
  },
  {
   "cell_type": "markdown",
   "id": "68bc6cea",
   "metadata": {},
   "source": [
    "[Nivelaciones Grado Décimo Programación](https://github.com/alexmagno6m/baraya/blob/main/10_programacion_nivelacion.ipynb)"
   ]
  },
  {
   "cell_type": "markdown",
   "id": "79579b7f",
   "metadata": {},
   "source": [
    "[Nivelaciones Grado Once Informática](https://github.com/alexmagno6m/baraya/blob/main/11_informatica_nivelacion.ipynb)"
   ]
  },
  {
   "cell_type": "markdown",
   "id": "1ce35f7d",
   "metadata": {},
   "source": [
    "[Nivelaciones Grado Once Programación](https://github.com/alexmagno6m/baraya/blob/main/11_programacion_nivelacion.ipynb)"
   ]
  }
 ],
 "metadata": {
  "kernelspec": {
   "display_name": "Python 3 (ipykernel)",
   "language": "python",
   "name": "python3"
  },
  "language_info": {
   "codemirror_mode": {
    "name": "ipython",
    "version": 3
   },
   "file_extension": ".py",
   "mimetype": "text/x-python",
   "name": "python",
   "nbconvert_exporter": "python",
   "pygments_lexer": "ipython3",
   "version": "3.9.7"
  }
 },
 "nbformat": 4,
 "nbformat_minor": 5
}
