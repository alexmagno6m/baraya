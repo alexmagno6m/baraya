{
 "cells": [
  {
   "cell_type": "markdown",
   "id": "e8cfc8ce",
   "metadata": {},
   "source": [
    "# Nivelación General Grado Once Informática\n",
    "### Profesor: Alexander Acevedo Gómez\n",
    "### Lea con atención\n",
    "La nivelación consta de :"
   ]
  },
  {
   "cell_type": "markdown",
   "id": "1cf5d0a3",
   "metadata": {},
   "source": [
    "> 1. Una parte teorica\n",
    "> 2. Una parte practica"
   ]
  },
  {
   "cell_type": "markdown",
   "id": "e9853931",
   "metadata": {},
   "source": [
    "Fecha y Hora: __```Lunes 20 de Noviembre de 2023 - 9:30 AM```__"
   ]
  },
  {
   "cell_type": "markdown",
   "id": "5a634f64",
   "metadata": {},
   "source": [
    "Ambas partes son __obligatorias__. La parte teorica sera sustentada verbalmente, __debe realizar todos los puntos del trabajo escrito__ y la practica desarrollada en sala de sistemas en cualquiera de los temas que se exponen mas abajo los cuales dos seran seleccionados por el docente y uno por el estudiante."
   ]
  },
  {
   "cell_type": "markdown",
   "id": "4fae9333",
   "metadata": {},
   "source": [
    "## Parte Teórica"
   ]
  },
  {
   "cell_type": "markdown",
   "id": "ba25f68c",
   "metadata": {},
   "source": [
    "Realice el siguiente trabajo escrito el cual debe ser sustentado verbalmente, debe contestar __Todas__ las preguntas."
   ]
  },
  {
   "cell_type": "markdown",
   "id": "6d2b8b0b",
   "metadata": {},
   "source": [
    "## Parte 1: Excel funciones lineales y coeficientes de regresión"
   ]
  },
  {
   "cell_type": "markdown",
   "id": "31ae02ab",
   "metadata": {},
   "source": [
    "1. Indique el procedimiento para nombrar una tabla en Excel.\n",
    "\n",
    "2. Sobre las funciones lineales indique:\n",
    "\n",
    "    1. Cual es su expresion general\n",
    "    2. Como se representan\n",
    "\n",
    "3. Sobre los graficos de dispersion indique:\n",
    "    1. Que usos tienen\n",
    "    2. Como se insertan en Excel\n",
    "\n",
    "4. Sobre las tablas dinamicas investigue:\n",
    "    1. Definicion\n",
    "    2. Caracteristicas\n",
    "    3. Ventajas\n",
    "    4. Procedimiento para crearlas\n",
    "5. Explique como se puede enlazar una tabla dinamica a un grafico dinamico.\n",
    "6. Nombre las opciones de agrupacion de datos disponibles para tablas dinamicas\n",
    "7. Explique cuales operaciones predefinidas se pueden realizar con tablas dinamicas\n",
    "8. Sobre la regresion lineal investigue:\n",
    "    1. Cual es su importancia en el analisis de datos\n",
    "    2. Cuales son sus campos de aplicacion\n",
    "    3. Que usos tiene\n",
    "9. Sobre los coeficientes de regresion indique:\n",
    "    1. Definicion\n",
    "    2. Explique como se analiza el coeficiente de correlacion de Pearson\n",
    "    3. Explique como se analiza el coeficiente de dispersion lineal\n",
    "10. Indique como se hallan los coeficientes mencionados en el punto anterior, dentro de Excel."
   ]
  },
  {
   "cell_type": "markdown",
   "id": "4fa00308",
   "metadata": {},
   "source": [
    "### Parte 2: Documentos profesionales"
   ]
  },
  {
   "cell_type": "markdown",
   "id": "6b647083",
   "metadata": {},
   "source": [
    "1. Sobre los estilos de titulo en Word investigue:\n",
    "\n",
    "    - Que son\n",
    "    - en que zona del programa se encuentran\n",
    "    - como se aplican\n",
    "    - como se modifican\n",
    "    - indique su principal uso\n",
    "\n",
    "2. Sobre las tablas de contenido indique:\n",
    "\n",
    "    - Que son\n",
    "    - Como se insertan\n",
    "    - En que parte del documento se deben agregar\n",
    "    - Como se actualizan\n",
    "    - Como se modifica su apariencia\n",
    "\n",
    "3. Sobre los números de pagina indique:\n",
    "\n",
    "    - Cómo se insertan\n",
    "    - En que parte de la pagina deben ir\n",
    "    - Como se evita que vayan en la primera pagina.\n",
    "\n",
    "4. Indique que es:\n",
    "    - Nota al pie\n",
    "    - Nota al final\n",
    "    - Explique las diferencias entre una y otra\n",
    "\n",
    "5. Explique como se insertan las notas al pie y al final\n",
    "6. Indique la función de las siguientes herramientas de Word:\n",
    "\n",
    "    - Administrar fuentes\n",
    "    - Insertar cita\n",
    "\n",
    "7. Explique como se agrega una fuente bibliográfica\n",
    "\n",
    "8. Explique como se inserta una cita\n",
    "\n",
    "9. Escriba en su cuaderno 5 citas textuales (frases) de 5 libros diferentes, deben ir acompañadas de:\n",
    "\n",
    "    - Autor\n",
    "    - Nombre del libro\n",
    "    - Editorial\n",
    "    - Año de publicación\n",
    "    - Ciudad de publicación\n",
    "10. Investigue la función de las siguientes herramientas\n",
    "\n",
    "    - Insertar titulo\n",
    "    - Insertar tabla de ilustraciones\n",
    "\n",
    "11. Explique el procedimiento, usado en Word para \n",
    "\n",
    "    - Agregar un rotulo\n",
    "    - Agregar tabla de ilustraciones\n",
    "\n",
    "12. Sobre las referencias cruzadas indique:\n",
    "\n",
    "    - Que son\n",
    "    - Que usos tienen\n",
    "    - Como se crean"
   ]
  },
  {
   "cell_type": "markdown",
   "id": "297e1cef",
   "metadata": {},
   "source": [
    "### Parte 3: HTML, JavaScript y CSS"
   ]
  },
  {
   "cell_type": "markdown",
   "id": "cdc38b45",
   "metadata": {},
   "source": [
    "1. Nombre las tres maneras de usar/incluir javascript en un documento html, escriba la sintaxis\n",
    "\n",
    "2. Explique los tipos de variables que se usan en javascript\n",
    "\n",
    "3. Defina la funcion y escriba la sintaxis de la etiqueta button\n",
    "\n",
    "4. Indique la funcion que cumplen los siguientes parametros:\n",
    "\n",
    "    1. ```onclick```\n",
    "    2. ```oncheck```\n",
    "    3. ```onselect```\n",
    "    4. ```onfocus```\n",
    "5. Nombre las tres maneras de usar/incluir javascript en un documento html, escriba la sintaxis\n",
    "\n",
    "6. Explique los tipos de variables que se usan en javascript\n",
    "\n",
    "7. Defina la funcion y escriba la sintaxis de la etiqueta ```button``` de HTML\n",
    "\n",
    "9. Nombre los 4 metodos de salida de JavaScript\n",
    "\n",
    "10. Sobre el motodo ```document.write``` indique: \n",
    "    1. funcion\n",
    "    2. argumento que recibe\n",
    "\n",
    "11. Explique la diferencia entre ```let```, ```var``` y ```const``` de las variables de JS\n",
    "\n",
    "12. Sobre el metodo ```document.getElementById``` indique:\n",
    "    1. funcion\n",
    "    2. sintaxis\n",
    "    3. que parametros recibe\n",
    "13. Sobre los operadores de JS consulte:\n",
    "    1. Asignacion\n",
    "    2. Aritmeticos\n",
    "    3. Operadores validos con cadenas\n",
    "    4. Comparacion\n",
    "    5. Bitwise\n",
    "14. Nombre los tipos de datos de JS\n",
    "15. Sobre los objetos de JS consulte:\n",
    "    1. concepto\n",
    "    2. estructura\n",
    "    3. sintaxis\n",
    "    4. como se accede a las claves\n",
    "    5. como se accede a los valores\n",
    "16. Sobre el objeto ```date``` de JavaScript consulte:\n",
    "    1. Concepto\n",
    "    2. Indique la funcion de los siguientes metodos y escriba la sintaxis:\n",
    "        1. ```getFullYear```\n",
    "        2. ```getDate```\n",
    "        3. ```getMonth```\n",
    "        4. ```getDay```\n",
    "17. Indique como JavaScript puede acceder al ```DOM```\n",
    "\n",
    "18. Indique la manera como JavaScript modifica el ```DOM```\n",
    "\n",
    "19. Consulte que significa vanilla JavaScript"
   ]
  },
  {
   "cell_type": "markdown",
   "id": "9dbeaff8",
   "metadata": {},
   "source": [
    "## Parte Práctica"
   ]
  },
  {
   "cell_type": "markdown",
   "id": "21fc9857",
   "metadata": {},
   "source": [
    "Debe estudiar y estar preparado para desarrollar cualquiera de los siguientes temas prácticos:"
   ]
  },
  {
   "cell_type": "markdown",
   "id": "6e0becd7",
   "metadata": {},
   "source": [
    "> - Graficar una funcion lineal en excel a partir de la forma estandar $y=ax+b$\n",
    "> - Encontrar de forma grafica la interseccion de dos funciones lineales, definiendo ```valor inicial``` e ```incremento```.\n",
    "> - Crear una tabla dinamica, filtrar por filas o columnas y realizar operaciones con estas\n",
    "> - Enlazar el titulo de un grafico a una celda en excel\n",
    "> - Hallar una regresion lineal junto con los coeficientes de ```correlacion``` y ```determinacion```, analizarlos, indicar si es posible hallar datos faltantes y futuros, en caso afirmativos obtenerlos.\n",
    "> - Crear una tabla de contenido\n",
    "> - Agregar notas al pie y notas al final\n",
    "> - Citar fuentes e incluirlas en la bibliografia\n",
    "> - Insertar referencias cruzadas\n",
    "> - Definir correctamente variables en JavaScript\n",
    "> - Realizar operaciones con variables\n",
    "> - Usar la sentencia ```console.log```\n",
    "> - Definir objetos de JavaScript\n",
    "> - Crear propiedades, acceder a ellas y modificar sus valores\n",
    "> - Crear una interfaz simple que reciba valores (uso de ```prompt```) y ejecutar una funcion con esa entrada.\n",
    "> - Usar las sentencias ```document.getElement.ById```, ```document.write```, ```alert``` y ```window.alert```"
   ]
  }
 ],
 "metadata": {
  "kernelspec": {
   "display_name": "Python 3 (ipykernel)",
   "language": "python",
   "name": "python3"
  },
  "language_info": {
   "codemirror_mode": {
    "name": "ipython",
    "version": 3
   },
   "file_extension": ".py",
   "mimetype": "text/x-python",
   "name": "python",
   "nbconvert_exporter": "python",
   "pygments_lexer": "ipython3",
   "version": "3.9.13"
  }
 },
 "nbformat": 4,
 "nbformat_minor": 5
}
