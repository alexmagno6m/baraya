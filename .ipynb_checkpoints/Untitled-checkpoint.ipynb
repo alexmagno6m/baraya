{
 "cells": [
  {
   "cell_type": "markdown",
   "id": "3904d16f",
   "metadata": {},
   "source": [
    "# Nivelaciones Generales Informatica y Programacion \n",
    "## Colegio Antonio Baraya IED\n",
    "### Profesor: Alexander Acevedo\n",
    "### Año 2023"
   ]
  },
  {
   "cell_type": "markdown",
   "id": "82041e42",
   "metadata": {},
   "source": [
    "### Profesor: Alexander Acevedo\n",
    "### Año 2023"
   ]
  },
  {
   "cell_type": "code",
   "execution_count": null,
   "id": "94bb779e",
   "metadata": {},
   "outputs": [],
   "source": []
  }
 ],
 "metadata": {
  "kernelspec": {
   "display_name": "Python 3 (ipykernel)",
   "language": "python",
   "name": "python3"
  },
  "language_info": {
   "codemirror_mode": {
    "name": "ipython",
    "version": 3
   },
   "file_extension": ".py",
   "mimetype": "text/x-python",
   "name": "python",
   "nbconvert_exporter": "python",
   "pygments_lexer": "ipython3",
   "version": "3.9.13"
  }
 },
 "nbformat": 4,
 "nbformat_minor": 5
}
