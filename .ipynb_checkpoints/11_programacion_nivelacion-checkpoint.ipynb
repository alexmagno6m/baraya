{
 "cells": [
  {
   "cell_type": "markdown",
   "id": "fa6ad0fb",
   "metadata": {},
   "source": [
    "# Nivelación General Grado Once Programación\n",
    "### Profesor: Alexander Acevedo Gómez - Año 2023\n",
    "### Lea con atención\n",
    "La nivelación consta de :"
   ]
  },
  {
   "cell_type": "markdown",
   "id": "84b7b54f",
   "metadata": {},
   "source": [
    "> 1. Una evaluación teórica\n",
    "> 2. Una parte práctica"
   ]
  },
  {
   "cell_type": "markdown",
   "id": "6f477ba4",
   "metadata": {},
   "source": [
    "Fecha y Hora: __```Lunes 20 de Noviembre de 2023 - 9:30 AM```__"
   ]
  },
  {
   "cell_type": "markdown",
   "id": "a6995950",
   "metadata": {},
   "source": [
    "## Evaluación Teórica\n",
    "Estudie los siguientes temas relacionados con la programación y Python:\n",
    "- Concepto de funcion\n",
    "- Como se definen: ```arrays```, ```tuples```, ```dictionaries```, ```set```\n",
    "- Procedimiento para importar modulos\n",
    "- Ciclos ```for```, ```while```\n",
    "- Uso de expresiones ```True```, ```False```\n",
    "- Estructura condicional ```if-elif-else```\n",
    "- Programacion Orientada a Objetos\n",
    "- Clases\n",
    "- Instancias\n",
    "- Encapsulamiento\n",
    "- Metodos\n",
    "- Herencia\n",
    "- Uso de ```Tkinter```, widgets, interactividad\n",
    "- Conceptos basicos de ```react``` y ```NextJS```."
   ]
  },
  {
   "cell_type": "markdown",
   "id": "1952d0be",
   "metadata": {},
   "source": [
    "## Parte Práctica"
   ]
  },
  {
   "cell_type": "markdown",
   "id": "ef9cbb74",
   "metadata": {},
   "source": [
    "Debe presentar su producto final del proyecto de media, con interfaz de usuario totalmente funcional y estar en capacidad de explicar el código empleado."
   ]
  }
 ],
 "metadata": {
  "kernelspec": {
   "display_name": "Python 3 (ipykernel)",
   "language": "python",
   "name": "python3"
  },
  "language_info": {
   "codemirror_mode": {
    "name": "ipython",
    "version": 3
   },
   "file_extension": ".py",
   "mimetype": "text/x-python",
   "name": "python",
   "nbconvert_exporter": "python",
   "pygments_lexer": "ipython3",
   "version": "3.9.7"
  }
 },
 "nbformat": 4,
 "nbformat_minor": 5
}
