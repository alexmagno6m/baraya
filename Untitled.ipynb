{
 "cells": [
  {
   "cell_type": "markdown",
   "id": "71dec91f",
   "metadata": {},
   "source": [
    "# Nivelaciones Generales Informatica y Programacion \n",
    "## Colegio Antonio Baraya IED\n",
    "#### Profesor: Alexander Acevedo\n",
    "#### Año 2023"
   ]
  },
  {
   "cell_type": "markdown",
   "id": "87d7a51d",
   "metadata": {},
   "source": [
    "Nivelaciones Grado Décimo Informática"
   ]
  },
  {
   "cell_type": "markdown",
   "id": "b2c6c813",
   "metadata": {},
   "source": [
    "Nivelaciones Grado Décimo Programación"
   ]
  },
  {
   "cell_type": "markdown",
   "id": "9d264bc6",
   "metadata": {},
   "source": [
    "Nivelaciones Grado Once Inform"
   ]
  }
 ],
 "metadata": {
  "kernelspec": {
   "display_name": "Python 3 (ipykernel)",
   "language": "python",
   "name": "python3"
  },
  "language_info": {
   "codemirror_mode": {
    "name": "ipython",
    "version": 3
   },
   "file_extension": ".py",
   "mimetype": "text/x-python",
   "name": "python",
   "nbconvert_exporter": "python",
   "pygments_lexer": "ipython3",
   "version": "3.9.13"
  }
 },
 "nbformat": 4,
 "nbformat_minor": 5
}
