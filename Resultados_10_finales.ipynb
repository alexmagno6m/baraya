{
 "cells": [
  {
   "cell_type": "markdown",
   "id": "d6109d27",
   "metadata": {},
   "source": [
    "## Resultados Nivelacion Final"
   ]
  },
  {
   "cell_type": "markdown",
   "id": "c6aa740e",
   "metadata": {},
   "source": [
    "Los estudiantes que no entregaron la parte teorica deben traerla el miercoles 21 de noviembre a las 9.00 A.M, o seguir la observacione que aparece en su casilla."
   ]
  },
  {
   "cell_type": "markdown",
   "id": "6f7a774f",
   "metadata": {},
   "source": [
    "| Nombre                            | Grado | Trabajo Escrito | Practica | Nota Final | Valoracion  | Observaciones                                                   |\n",
    "|-----------------------------------|-------|-----------------|----------|------------|-------------|-----------------------------------------------------------------|\n",
    "| CULMA   GUTIERREZ RONALD CAMILO   | 1001  | 0               | 21       | 21         | Pendiente   | Debe entregar parte teorica miercoles 22 de Nov. 9 AM           |\n",
    "| OCHOA MELO   DANIEL SANTIAGO      | 1001  | 0               | 16,8     | 16,8       | Pendiente   | Debe entregar parte teorica miercoles 22 de Nov. 9 AM           |\n",
    "| RAMIREZ   CARRILLO LUIS ENRRIQUE  | 1001  | 18              | 15       | 33         | No Aprobado | Debe presentarse en sala de sistemas miercoles 22 de Nov. 10 AM |\n",
    "| VALDES   CORREDOR JUAN DAVID      | 1001  | 17,6            | 17,4     | 35         | Aprobado    |            |\n",
    "| VELEZ NARANJO   KEVIN MATEO       | 1001  | 0               | 0        | 0          | No Aprobado | NO APROBADO                                                     |\n",
    "| BERNAL MORALES   SARA VALENTINA   | 1002  | 0               | 16,8     | 16,8       | Pendiente   | Debe entregar parte teorica miercoles 22 de Nov. 9 AM           |\n",
    "| MELO GUTIERREZ   MAICOL  ANDREY   | 1002  | 14              | 24       | 38         | Aprobado    |                                                                 |\n",
    "| PRIETO COSIO   LAURA VALENTINA    | 1002  | 18              | 17,4     | 35,4       | Aprobado    |                                                                 |\n",
    "| CASAS ESPAÑOL   PAULA ANDREA      | 1003  | 0               | 21       | 21         | Pendiente   | Debe entregar parte teorica miercoles 22 de Nov. 9 AM           |\n",
    "| RESTREPO   SALGADO JHON SEBASTIAN | 1003  | 0               | 12       | 12         | Pendiente   | Debe entregar parte teorica miercoles 22 de Nov. 9 AM           |\n",
    "| VASQUEZ CUERVO   DAVID MIGUEL     | 1003  | 19,2            | 19,2     | 38,4       | Aprobado    |                                                                 |"
   ]
  }
 ],
 "metadata": {
  "kernelspec": {
   "display_name": "Python 3 (ipykernel)",
   "language": "python",
   "name": "python3"
  },
  "language_info": {
   "codemirror_mode": {
    "name": "ipython",
    "version": 3
   },
   "file_extension": ".py",
   "mimetype": "text/x-python",
   "name": "python",
   "nbconvert_exporter": "python",
   "pygments_lexer": "ipython3",
   "version": "3.9.4"
  },
  "toc": {
   "base_numbering": 1,
   "nav_menu": {},
   "number_sections": true,
   "sideBar": true,
   "skip_h1_title": false,
   "title_cell": "Table of Contents",
   "title_sidebar": "Contents",
   "toc_cell": false,
   "toc_position": {},
   "toc_section_display": true,
   "toc_window_display": false
  }
 },
 "nbformat": 4,
 "nbformat_minor": 5
}
