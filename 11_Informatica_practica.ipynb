{
 "cells": [
  {
   "cell_type": "markdown",
   "id": "c2f024cc",
   "metadata": {},
   "source": [
    "# Nivelacion Informatica Grado 11\n",
    "Seleccione el tema asignado"
   ]
  },
  {
   "cell_type": "markdown",
   "id": "0d3e4369",
   "metadata": {},
   "source": [
    "## Funciones Lineales en Excel"
   ]
  },
  {
   "cell_type": "markdown",
   "id": "b5d6c585",
   "metadata": {},
   "source": [
    "1. Lea con atencion la [siguiente guia](https://github.com/alexmagno6m/Informatica_11/blob/main/Clase_1_Sistemas_lineales.ipynb)"
   ]
  },
  {
   "cell_type": "markdown",
   "id": "ab1d3cb3",
   "metadata": {},
   "source": [
    "2. Resuelva los ejercicios de nivelacion que aparecen al final de la guia"
   ]
  },
  {
   "cell_type": "markdown",
   "id": "94ed4726",
   "metadata": {},
   "source": [
    "## Tablas dinamicas"
   ]
  },
  {
   "cell_type": "markdown",
   "id": "eb6de6d3",
   "metadata": {},
   "source": [
    "Copie los datos de la siguiente tabla:\n",
    "\n",
    "Peguela en una hoja nueva y desarrolle los siguientes puntos:\n",
    "\n",
    "1. Convierta los datos a tabla, agregue una fila de totales.\n",
    "2. Nombre la tabla como: \"tablaDinamica\"\n",
    "3. Agregue la columna ```\"percentage salary\"```, debe hallar el porcentaje salario que le corresponde a cada empleado.\n",
    "4. Agregue la columna ```\"percentage costs\"```, debe hallar el porcentaje de \"costs\" que le corresponde a cada empleado.\n",
    "5. Agregue la columna ```\"bonus\"```, el cual corresponde a la diferencia entre ```\"salary\"``` y ```\"costs\"```.\n",
    "6. Agregue la columna ```\"percentage bonus\"```, que indica el porcentaje que tiene el bono respecto al salario de cada empleado.\n",
    "7. Agregue la columna ```\"total salary\"``` que corresponde a la suma entre ```\"salary\"``` y ```\"percentage bonus\"```.\n",
    "8. Cree una segmentacion de datos por ```\"gender\"```.\n",
    "9. Agregue una tabla dinamica, que debe aparecer en una nueva hoja.\n",
    "10. Por columnas seleccione ```\"gender\"```.\n",
    "11. Por valores debe selccionar ```\"total salary\"``` y ```\"costs\"```, la operacion debe ser promedio para ambos valores.\n",
    "12. Agregue segmentacion de datos por ```\"gender\"```.\n",
    "13. Agregue grafico dinamico por \"columnas\"\n",
    "14. Genere una nueva tabla dinamica, que debe aparecer en una hoja nueva.\n",
    "15. Por columnas seleccione ```\"gender\"```\n",
    "16. Por valores seleccione ```\"percentage bonus\"```, la operacion es promedio; y ```\"salary\"``` con la operacion suma.\n",
    "17. Genere segmentacion de datos por \"gender\"\n",
    "18. Agregue un grafico dinamico circular."
   ]
  },
  {
   "cell_type": "markdown",
   "id": "c4ce68df",
   "metadata": {},
   "source": [
    "## Regresion Lineal\n",
    "\n",
    "Copie la siguiente tabla dentro de un hoja nueva de Excel"
   ]
  },
  {
   "cell_type": "markdown",
   "id": "dd4f1199",
   "metadata": {},
   "source": [
    "| Mes        | Altura |\n",
    "|------------|--------|\n",
    "| Enero      | 10     |\n",
    "| Febrero    | 15     |\n",
    "| Marzo      | 20     |\n",
    "| Abril      | 25     |\n",
    "| Mayo       | 32     |\n",
    "| Junio      |        |\n",
    "| Julio      | 46     |\n",
    "| Agosto     | 53     |\n",
    "| Septiembre |        |\n",
    "| Octubre    | 67     |\n",
    "| Noviembre  | 74     |\n",
    "| Diciembre  | 81     |"
   ]
  },
  {
   "cell_type": "markdown",
   "id": "6731c7c8",
   "metadata": {},
   "source": [
    "Use el modelo de regresion lineal visto durante el primer periodo y parte del segundo para responder las siguientes preguntas:"
   ]
  },
  {
   "cell_type": "markdown",
   "id": "7ab89ba3",
   "metadata": {},
   "source": [
    "1. Halle la recta de regresion\n",
    "2. Halle el valor de $R^2$ en el grafico\n",
    "3. A partir de la celda H1 la siguiente tabla:"
   ]
  },
  {
   "cell_type": "markdown",
   "id": "5296afbf",
   "metadata": {},
   "source": [
    "| Coeficiente    | Valor | Conclusion   |\n",
    "|----------------|-------|--------------|\n",
    "| Correlacion    |       | Conclusion 1 |\n",
    "| Determinaccion |       | Conclusion 2 |"
   ]
  },
  {
   "cell_type": "markdown",
   "id": "652daf0c",
   "metadata": {},
   "source": [
    "4. Calcule el valor del ```coeficiente de correlacion de Pearson```\n",
    "5. Calcule el ```coeficiente de determinacion```\n",
    "6. Indique en ```Conclusion 1```, que tipo de relacion esta presente en los datos: Positiva, Negativa, Creciente, Decreciente, si es fuerte o debil.\n",
    "7. Indique en ```Conclusion 2```, el porcentaje de ajuste del modelo y si la calidad del mismo permite o no predecir valores y datos faltantes.\n",
    "8. Si respondio afirmativamente el punto anterior, halle los datos faltantes y pronostique los siguientes 6 meses."
   ]
  },
  {
   "cell_type": "markdown",
   "id": "35e247c9",
   "metadata": {},
   "source": [
    "## Documentos Profesionales"
   ]
  },
  {
   "cell_type": "markdown",
   "id": "df9c5cd7",
   "metadata": {},
   "source": [
    "A continuacion se muestra un listado de 10 inventos o descubrimientos importantes del siglo XX, abra un nuevo documento de word y agregue cada uno de ellos en su propia pagina:\n",
    "\n",
    "__El avión__\n",
    "> - El avión fue uno de los inventos más importantes del siglo XX. Revolucionó el transporte y permitió a las personas viajar largas distancias en un tiempo relativamente corto. El primer vuelo exitoso de un avión a motor fue realizado por los hermanos Wright en 1903.\n",
    "\n",
    "__Los antibióticos__\n",
    "> - Los antibióticos son medicamentos que matan o inhiben el crecimiento de bacterias. Fueron descubiertos en la década de 1920 y revolucionaron el tratamiento de las enfermedades infecciosas. Los antibióticos han salvado millones de vidas y han reducido la mortalidad por enfermedades infecciosas.\n",
    "\n",
    "__La televisión__\n",
    "> - La televisión es un medio de comunicación que transmite imágenes y sonido a través de ondas electromagnéticas. Fue inventada en la década de 1920 y se convirtió rápidamente en un medio de comunicación popular. La televisión ha cambiado la forma en que nos informamos, nos divertimos y nos conectamos con los demás.\n",
    "\n",
    "__La computadora__\n",
    "> - La computadora es una máquina que puede procesar información y realizar cálculos. Fue inventada en la década de 1940 y ha experimentado un crecimiento exponencial en términos de potencia y velocidad. Las computadoras se utilizan en una amplia gama de aplicaciones, desde la ciencia y la ingeniería hasta los negocios y el entretenimiento.\n",
    "\n",
    "__La energía nuclear__\n",
    "> - La energía nuclear es la energía que se libera de la división del núcleo de un átomo. Fue descubierta en la década de 1930 y se ha utilizado para generar electricidad, crear armas nucleares y realizar investigación científica. La energía nuclear tiene el potencial de proporcionar una fuente de energía limpia y segura, pero también plantea riesgos de seguridad y proliferación nuclear.\n",
    "\n",
    "__La píldora anticonceptiva__\n",
    "> - La píldora anticonceptiva es un medicamento que se toma para prevenir el embarazo. Fue inventada en la década de 1950 y ha tenido un impacto significativo en la vida de las mujeres. La píldora anticonceptiva ha dado a las mujeres más control sobre su salud reproductiva y ha contribuido a la liberación de la mujer.\n",
    "\n",
    "__La exploración espacial__\n",
    "> -La exploración espacial es el estudio de los objetos y fenómenos que se encuentran más allá de la atmósfera terrestre. Comenzó en la década de 1950 y ha tenido un impacto significativo en nuestra comprensión del universo. La exploración espacial ha llevado al descubrimiento de nuevos planetas, estrellas y galaxias, y ha dado a los humanos una nueva perspectiva sobre nuestro lugar en el universo.\n",
    "\n",
    "__El internet__\n",
    "> - Internet es una red de computadoras que conecta a personas de todo el mundo. Fue inventado en la década de 1960 y se ha convertido en una parte integral de nuestras vidas. Internet ha cambiado la forma en que nos comunicamos, aprendemos, trabajamos y nos divertimos.\n",
    "\n",
    "__La clonación__\n",
    "> - La clonación es el proceso de crear un organismo idéntico a otro. Fue desarrollada en la década de 1990 y ha generado un debate ético significativo. La clonación tiene el potencial de revolucionar la medicina, pero también plantea riesgos potenciales, como la creación de seres humanos clonados.\n",
    "\n",
    "__La edición genética__\n",
    ">- La edición genética es una técnica que permite modificar el ADN de un organismo. Fue desarrollada en la década de 2000 y tiene el potencial de revolucionar la agricultura, la medicina y la investigación científica. La edición genética tiene el potencial de curar enfermedades, crear alimentos más nutritivos y mejorar el medio ambiente, pero también plantea riesgos potenciales, como la creación de organismos modificados genéticamente que puedan escapar al control humano."
   ]
  },
  {
   "cell_type": "markdown",
   "id": "96362a21",
   "metadata": {},
   "source": [
    "Desarrolle lo siguiente:\n",
    "1. Agregue una imagen representativa de cada tema, con su titulo, establecido como rotulo\n",
    "2. Busque una referencia bibliografica de los siguientes inventos: el avion, la television, la pildora anticonceptiva y el internet, agreguela al final de cada pagina en formato APA\n",
    "3. Agregue una nota al pie en los inventos: La energia nuclear, la exploracion espacial y la edicion genetica\n",
    "4. Agregue al final un parrafo de __Conclusiones__ donde con sus propias palabras indique cual de los 10 inventos usted considera mas importante, este parrafo debe tener una referencia cruzada que enlace a ese invento en el documento.\n",
    "5. Agregue la tabla de contenido\n",
    "6. Agregue tabla de imagenes\n",
    "7. Agregue la bibliografia."
   ]
  },
  {
   "cell_type": "markdown",
   "id": "717a9531",
   "metadata": {},
   "source": [
    "## JavaScript y HTML"
   ]
  },
  {
   "cell_type": "markdown",
   "id": "825f54fd",
   "metadata": {},
   "source": [
    "1. Lea la siguiente guia para ayudarse en el tema:\n",
    "[Funciones en JavaScript](https://nbviewer.org/github/alexmagno6m/JavaScript/blob/master/JavaScript3-Parte%201.ipynb)\n",
    "2. En ```Visual Studio Code``` cree un nuevo folder llamado ```nivelacion_nombre_apellido```, dentro de ese folder cree un archivo llamado ```nivelacion.js```.\n",
    "3. Lea el siguiente caso:\n",
    "> Se dide que de acuerdo a las horas trabajadas los empleados disminuyen su bienestar, sin embargo, para evitar tal decrimento en la salud mental, se sugiere que por cada hora trabajada se agreguen $0.2$ horas de descanso o horas de felicidad, por ejemplo si un trabajador labora 8 horas, deberia tener dentro de su jornada 1,6 horas de pausas activas, esto es porque $8x0,2=1.6$\n",
    "3. Defina una funcion identificada ```HappyHours```, la cual va recibir como argumento la variable ```NumberHours```, esta funcion debe calcular el numero de horas de felicidad que requiere un empleado para mejorar su bienestar.\n",
    "4. El resultado debe verse en la consola de ```VS Code```.\n",
    "5. Ahora cree un nuevo archivo ```HTML``` dentro del mismo folder.\n",
    "6. Genere el codigo basico de una pagina web\n",
    "7. Lea la siguiente guia para orientarse en el tema [Funciones en HTML](https://nbviewer.org/github/alexmagno6m/JavaScript/blob/master/JavaScript3%20-%20Parte%202.ipynb)\n",
    "8. Agregue como titulo ```h1```: Nivelacion Final Informatica JavaScript\n",
    "9. Agregue una linea horizontal con ```hr```\n",
    "10. Agregue con la etiqueta ```p``` el texto: Uso de JavaScript dentro de fnuciones, use el identificador _\"my-text\"_\n",
    "12. Agregue un Script que al abrir la pagina solicite con ```prompt``` el nombre del usuario, luego al ingresar la respuesta el texto del punto 10 se cambie con el mensaje ```\"Hola ______, bienvenido, hoy es ________\"```, en la primera linea debe aparecer el nombre digitado y en la segunda la fecha actual en formato legible para humanos, use ```Date()``` y ```toDateString()```."
   ]
  }
 ],
 "metadata": {
  "kernelspec": {
   "display_name": "Python 3 (ipykernel)",
   "language": "python",
   "name": "python3"
  },
  "language_info": {
   "codemirror_mode": {
    "name": "ipython",
    "version": 3
   },
   "file_extension": ".py",
   "mimetype": "text/x-python",
   "name": "python",
   "nbconvert_exporter": "python",
   "pygments_lexer": "ipython3",
   "version": "3.9.4"
  },
  "toc": {
   "base_numbering": 1,
   "nav_menu": {},
   "number_sections": true,
   "sideBar": true,
   "skip_h1_title": false,
   "title_cell": "Table of Contents",
   "title_sidebar": "Contents",
   "toc_cell": false,
   "toc_position": {},
   "toc_section_display": true,
   "toc_window_display": false
  }
 },
 "nbformat": 4,
 "nbformat_minor": 5
}
