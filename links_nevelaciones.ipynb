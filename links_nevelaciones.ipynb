{
 "cells": [
  {
   "cell_type": "markdown",
   "id": "00e88cfc",
   "metadata": {},
   "source": [
    "# Nivelaciones Generales Informatica y Programacion \n",
    "## Colegio Antonio Baraya IED\n",
    "#### Profesor: Alexander Acevedo\n",
    "#### Año 2023"
   ]
  },
  {
   "cell_type": "markdown",
   "id": "b1597ace",
   "metadata": {},
   "source": [
    "Nivelaciones Grado Décimo Informática"
   ]
  },
  {
   "cell_type": "markdown",
   "id": "68bc6cea",
   "metadata": {},
   "source": [
    "Nivelaciones Grado Décimo Programación"
   ]
  },
  {
   "cell_type": "markdown",
   "id": "79579b7f",
   "metadata": {},
   "source": [
    "Nivelaciones Grado Once Informática"
   ]
  },
  {
   "cell_type": "markdown",
   "id": "1ce35f7d",
   "metadata": {},
   "source": [
    "Nivelaciones Grado Once Programación"
   ]
  },
  {
   "cell_type": "code",
   "execution_count": null,
   "id": "c7193609",
   "metadata": {},
   "outputs": [],
   "source": []
  }
 ],
 "metadata": {
  "kernelspec": {
   "display_name": "Python 3 (ipykernel)",
   "language": "python",
   "name": "python3"
  },
  "language_info": {
   "codemirror_mode": {
    "name": "ipython",
    "version": 3
   },
   "file_extension": ".py",
   "mimetype": "text/x-python",
   "name": "python",
   "nbconvert_exporter": "python",
   "pygments_lexer": "ipython3",
   "version": "3.9.13"
  }
 },
 "nbformat": 4,
 "nbformat_minor": 5
}
