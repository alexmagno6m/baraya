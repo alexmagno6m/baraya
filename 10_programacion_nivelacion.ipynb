{
 "cells": [
  {
   "cell_type": "markdown",
   "id": "71e216ec",
   "metadata": {},
   "source": [
    "# Nivelación General Grado Décimo Programación\n",
    "### Profesor: Alexander Acevedo Gómez\n",
    "### Lea con atención\n",
    "La nivelación consta de :"
   ]
  },
  {
   "cell_type": "markdown",
   "id": "56b2a872",
   "metadata": {},
   "source": [
    "> 1. Una evaluacion teorica\n",
    "> 2. Una parte practica"
   ]
  },
  {
   "cell_type": "markdown",
   "id": "630aa65c",
   "metadata": {},
   "source": [
    "Fecha y Hora: __```Martes 21 de Noviembre de 2023 - 9:30 AM```__"
   ]
  },
  {
   "cell_type": "markdown",
   "id": "d3f8138f",
   "metadata": {},
   "source": [
    "## Evaluación Teórica\n",
    "Estudie los siguientes temas relacionados con la programación:\n",
    "- COncepto de algoritmos, tipos, reglas\n",
    "- Que es una variable\n",
    "- Tipos de variables\n",
    "- Identificadores de variables\n",
    "- Que es un ciclo o loop\n",
    "- Que son las estructuras condicionales\n",
    "- En que consiste el flujo de control de un programa\n",
    "- Tipos de errores en programacion\n",
    "- Operadores relacionales, aritmeticos, logicos, booleanos, bitwise\n",
    "- Diagramas de flujo, concepto, usos, formas de elaboracion\n",
    "- Tipos de datos: strings, numbers, floats, bolean."
   ]
  },
  {
   "cell_type": "markdown",
   "id": "e45121a5",
   "metadata": {},
   "source": [
    "## Parte Práctica"
   ]
  },
  {
   "cell_type": "markdown",
   "id": "8228ae41",
   "metadata": {},
   "source": [
    "Debe estudiar y estar preparado para desarrollar cualquiera de los siguientes temas prácticos:"
   ]
  },
  {
   "cell_type": "markdown",
   "id": "79afabe3",
   "metadata": {},
   "source": [
    "> - Desarrollar algoritmos basicos en PSeInt, uso de los comandos ```leer```, ```escribir```, ```asignar```, ```si-entonces```, ```mientras```, ```para```, ```proceso```, ```azar```.\n",
    "> - Desarrollar algoritmos en __MakeCode__ para simular el uso de la tarjeta __MicroBit__, uso de los bloques ```Basico```, ```Entrada```, ```Logica```, ```Variables```.\n",
    "> Uso de los sensores de Microbit: Boton A, Boton B, Logo, Led, Microfono.\n",
    "> Uso del operador ```aleatorio```\n",
    "> Mostrar mensajes en Led segun condiciones establecidas\n",
    "> Reproducir sonidos\n",
    "> Conectarse a otra Microbit usando el Bluetooth\n",
    "> Enviar mensajes entre Microbit\n",
    "> Uso del bloque ```Radio```."
   ]
  },
  {
   "cell_type": "code",
   "execution_count": null,
   "id": "61a751cf",
   "metadata": {},
   "outputs": [],
   "source": []
  }
 ],
 "metadata": {
  "kernelspec": {
   "display_name": "Python 3 (ipykernel)",
   "language": "python",
   "name": "python3"
  },
  "language_info": {
   "codemirror_mode": {
    "name": "ipython",
    "version": 3
   },
   "file_extension": ".py",
   "mimetype": "text/x-python",
   "name": "python",
   "nbconvert_exporter": "python",
   "pygments_lexer": "ipython3",
   "version": "3.9.13"
  }
 },
 "nbformat": 4,
 "nbformat_minor": 5
}
